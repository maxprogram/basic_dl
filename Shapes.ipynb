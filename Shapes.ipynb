{
 "cells": [
  {
   "cell_type": "markdown",
   "metadata": {},
   "source": [
    "# Basic shape recognition with deep learning\n",
    "\n",
    "### Using Keras and Tensorflow\n",
    "\n",
    "Adapted from the [basic_deep_learning_keras](https://github.com/mashgin/basic_deep_learning_keras) tutorial by Amelie Froessl at [Mashgin](http://www.mashgin.com)."
   ]
  },
  {
   "cell_type": "markdown",
   "metadata": {},
   "source": [
    "Import Python libraries and OpenCV:"
   ]
  },
  {
   "cell_type": "code",
   "execution_count": null,
   "metadata": {},
   "outputs": [],
   "source": [
    "import numpy as np\n",
    "import random\n",
    "import cv2\n",
    "\n",
    "%matplotlib inline\n",
    "import matplotlib.pyplot as plt\n",
    "\n",
    "np.random.seed(1337)"
   ]
  },
  {
   "cell_type": "markdown",
   "metadata": {},
   "source": [
    "## Generating sample data\n",
    "First, we need to generate some sample shape images using OpenCV."
   ]
  },
  {
   "cell_type": "code",
   "execution_count": null,
   "metadata": {},
   "outputs": [],
   "source": [
    "classes = 2\n",
    "rows, cols, channels = 100, 100, 1\n",
    "train_samples = 500\n",
    "test_samples = int(train_samples * 0.2)\n",
    "\n",
    "# Generate a single random shape (circle or square)\n",
    "def generate_shape():\n",
    "    # Choose a random shape\n",
    "    cls = random.randint(0, classes - 1)\n",
    "    img = np.zeros((rows, cols, channels), dtype='uint8')\n",
    "\n",
    "    # Circle of random size\n",
    "    if cls == 0:\n",
    "        cv2.circle(img, (int(cols/2), int(rows/2)),\n",
    "            random.randint(10, int(cols/2 - 10)), (255), -1)\n",
    "    # Square of random size\n",
    "    elif cls == 1:\n",
    "        side = random.randint(10, cols/2 - 10)\n",
    "        cv2.rectangle(img, (int(cols/2 - side), int(cols/2 - side)),\n",
    "                    (int(cols/2 + side), int(cols/2 + side)), (255), -1)\n",
    "\n",
    "    chans = cv2.split(img)\n",
    "    out_image = np.array(chans, dtype='float32') / 255.\n",
    "\n",
    "    return cls, out_image\n",
    "\n",
    "# Return an array of multiple samples (labels, images)\n",
    "def generate_samples(batch_size):\n",
    "    batch_labels, batch_images = [], []\n",
    "\n",
    "    for i in range(0, batch_size):\n",
    "        cls, image = generate_shape()\n",
    "        batch_images.append(image)\n",
    "        batch_labels.append(cls)\n",
    "\n",
    "    return np.array(batch_labels).reshape(batch_size, 1), np.array(batch_images)\n",
    "\n",
    "# Create training and test data\n",
    "y_train, X_train = generate_samples(train_samples)\n",
    "y_test, X_test = generate_samples(test_samples)\n",
    "\n",
    "X_train[0]"
   ]
  },
  {
   "cell_type": "markdown",
   "metadata": {},
   "source": [
    "The above output is one of the shapes we generated as a 1 channel (black or white) matrix. Below are some samples as images:"
   ]
  },
  {
   "cell_type": "code",
   "execution_count": null,
   "metadata": {},
   "outputs": [],
   "source": [
    "samples = X_train[:5]\n",
    "for i, x in enumerate(samples):\n",
    "    img = np.array(x * 255, dtype='uint8')\n",
    "    plt.subplot(1, 5, i + 1)\n",
    "    plt.imshow(img[0], cmap='gray')"
   ]
  },
  {
   "cell_type": "markdown",
   "metadata": {},
   "source": [
    "## Training the model\n",
    "\n",
    "First, let's import all the Keras methods we'll need."
   ]
  },
  {
   "cell_type": "code",
   "execution_count": null,
   "metadata": {},
   "outputs": [],
   "source": [
    "from keras.models import Sequential\n",
    "from keras.layers import Dense, Dropout, Activation, Flatten\n",
    "from keras.layers import Conv2D, MaxPooling2D\n",
    "from keras.utils import to_categorical\n",
    "from keras import backend as K\n",
    "from keras.models import load_model"
   ]
  },
  {
   "cell_type": "markdown",
   "metadata": {},
   "source": [
    "Now we can create the model. "
   ]
  },
  {
   "cell_type": "code",
   "execution_count": null,
   "metadata": {},
   "outputs": [],
   "source": [
    "model = Sequential()\n",
    "\n",
    "# Define Neural Net layers\n",
    "model.add(Conv2D(16, (5, 5), input_shape=(rows, cols, channels), padding='valid'))\n",
    "model.add(Activation('relu'))\n",
    "model.add(MaxPooling2D(pool_size=(2, 2)))\n",
    "model.add(Dropout(0.25))\n",
    "model.add(Flatten())\n",
    "model.add(Dense(128, activation='relu'))\n",
    "# Convert to probability of each class:\n",
    "model.add(Dense(classes, activation='softmax'))"
   ]
  },
  {
   "cell_type": "markdown",
   "metadata": {},
   "source": [
    "Here's just a short description of the layers used in this neural net:\n",
    "\n",
    "* **Conv2D** → extracting local image information \n",
    "* **Activation** → evaluate information relevance\n",
    "* **MaxPooling2D** → image compression to find most important part of features\n",
    "* **Dropout** → avoiding bias\n",
    "* **Flatten** → reformat  \n",
    "* **Dense** → evaluate global image information (fully connected layer)\n",
    "\n",
    "And last but not least, this defines how our neural net should learn, which we need for training: "
   ]
  },
  {
   "cell_type": "code",
   "execution_count": null,
   "metadata": {},
   "outputs": [],
   "source": [
    "model.compile(loss='categorical_crossentropy', optimizer='adam', metrics=['accuracy'])"
   ]
  },
  {
   "cell_type": "markdown",
   "metadata": {},
   "source": [
    "Now we can train the model. This should take less than 30 seconds."
   ]
  },
  {
   "cell_type": "code",
   "execution_count": null,
   "metadata": {},
   "outputs": [],
   "source": [
    "# Prep the data\n",
    "inputs = X_train.reshape(train_samples, rows, cols, 1)\n",
    "output_cats = to_categorical(y_train)\n",
    "\n",
    "model.fit(inputs, output_cats, batch_size=100,\n",
    "        epochs=4, verbose=1, validation_split=0.2)\n"
   ]
  },
  {
   "cell_type": "markdown",
   "metadata": {},
   "source": [
    "\n",
    "The training should have converged to something close to 100% accuracy. But we should still test the model on the test data we created early to make sure it didn't overfit:"
   ]
  },
  {
   "cell_type": "code",
   "execution_count": null,
   "metadata": {},
   "outputs": [],
   "source": [
    "# Prep the data\n",
    "inputs = X_test.reshape(test_samples, rows, cols, 1)\n",
    "output_cats = to_categorical(y_test)\n",
    "\n",
    "accuracy = model.evaluate(inputs, output_cats)[1]\n",
    "\n",
    "print('Test accuracy = %.2f%%' % (accuracy * 100))"
   ]
  },
  {
   "cell_type": "markdown",
   "metadata": {},
   "source": [
    "How well did it do? This is a fairly complex model given the simplicity of the data, so it should have done pretty well.\n",
    "\n",
    "## Making a prediction\n",
    "\n",
    "Now let's generate a new random shape and see what our model predicts it is."
   ]
  },
  {
   "cell_type": "code",
   "execution_count": null,
   "metadata": {},
   "outputs": [],
   "source": [
    "label, img = generate_samples(1)\n",
    "img_test = img.reshape(1, rows, cols, 1)\n",
    "label_test = to_categorical(label, classes)\n",
    "\n",
    "img = np.array(img * 255, dtype='uint8')[0]\n",
    "plt.imshow(img[0], cmap='gray')\n",
    "\n",
    "# Define our categories\n",
    "vis_dictionary = {0: \"circle\", 1: \"square\"}\n",
    "\n",
    "pred = model.predict_classes(img_test)\n",
    "pred = vis_dictionary[pred[0]]\n",
    "print('Prediction:', pred)"
   ]
  },
  {
   "cell_type": "markdown",
   "metadata": {},
   "source": [
    "BOOM. You did it. Now you have a neural network model that can recognize the difference between a circle and a square."
   ]
  }
 ],
 "metadata": {
  "kernelspec": {
   "display_name": "Python 3",
   "language": "python",
   "name": "python3"
  },
  "language_info": {
   "codemirror_mode": {
    "name": "ipython",
    "version": 3
   },
   "file_extension": ".py",
   "mimetype": "text/x-python",
   "name": "python",
   "nbconvert_exporter": "python",
   "pygments_lexer": "ipython3",
   "version": "3.5.4"
  }
 },
 "nbformat": 4,
 "nbformat_minor": 2
}
